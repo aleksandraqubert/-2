{
  "nbformat": 4,
  "nbformat_minor": 0,
  "metadata": {
    "colab": {
      "provenance": [],
      "mount_file_id": "1uNWf1Y4uuOH0mbsDzl5eck-IoH7Pw4-D",
      "authorship_tag": "ABX9TyNb/m27qA3EeTQbTH41jl4T",
      "include_colab_link": true
    },
    "kernelspec": {
      "name": "python3",
      "display_name": "Python 3"
    },
    "language_info": {
      "name": "python"
    }
  },
  "cells": [
    {
      "cell_type": "markdown",
      "metadata": {
        "id": "view-in-github",
        "colab_type": "text"
      },
      "source": [
        "<a href=\"https://colab.research.google.com/github/aleksandraqubert/-2/blob/main/Laboratorna3_4kyrs.ipynb\" target=\"_parent\"><img src=\"https://colab.research.google.com/assets/colab-badge.svg\" alt=\"Open In Colab\"/></a>"
      ]
    },
    {
      "cell_type": "code",
      "source": [
        "number_cores = 2\n",
        "memory_gb = 4\n",
        "is_full_dataset = True\n",
        "from pyspark import SparkConf, SparkContext\n",
        "import os\n",
        "\n",
        "number_cores = 2\n",
        "memory_gb = 4\n",
        "conf = (\n",
        "    SparkConf()\n",
        "        .setAppName(\"Spark Rdd Task\")\n",
        "        .setMaster(f'local[{number_cores}]')\n",
        "        .set('spark.driver.memory', f'{memory_gb}g')\n",
        ")\n",
        "\n",
        "sc = SparkContext.getOrCreate(conf=conf)\n",
        "\n",
        "if is_full_dataset:\n",
        "    if not os.path.exists('Reviews.csv'):\n",
        "        sc.stop()\n",
        "        raise Exception(\"\"\"\n",
        "            Download the 'Reviews.csv' file from https://www.kaggle.com/datasets/snap/amazon-fine-food-reviews\n",
        "            and put it in 'input' folder\n",
        "        \"\"\")\n",
        "    else:\n",
        "        inputRdd = sc.textFile(\"Reviews.csv\")\n",
        "else:\n",
        "    inputRdd = sc.textFile(\"sample.csv\")\n",
        "# Видалення рядку заголовку\n",
        "filteredInput = inputRdd.filter(lambda line: line.startswith(\"Id,\") == False)\n",
        "# Ваш код починається тут\n",
        "# працювати треба з RDD filteredInput\n",
        "\n",
        "    # Розділяємо кожен рядок на поля\n",
        "split_fields = filteredInput.map(lambda row: row.split(','))\n",
        "\n",
        "# Створюємо пари (`UserId` та `ProductId`)\n",
        "user_product_pairs = split_fields.map(lambda own: (own[2], own[1]))\n",
        "\n",
        "# Групуємо за Користувачем та об'єднуємо всі Товари до списку унікальних продуктів\n",
        "unique_products_per_user = user_product_pairs.groupByKey().mapValues(lambda product: list(set(product)))\n",
        "unique_products_per_user.take(10)\n",
        "from itertools import combinations\n",
        "# Функція для створення пар продуктів та підрахунку їх\n",
        "def get_product_pairs(products):\n",
        "    product_pairs = list(combinations(products, 2))  # Усі можливі комбінації товарів\n",
        "    return [(pair, 1) for pair in product_pairs]\n",
        "\n",
        "# Створюємо всі пари продуктів для кожного користувача\n",
        "user_product_pairs = unique_products_per_user.flatMap(lambda user_products: get_product_pairs(user_products[1]))\n",
        "\n",
        "# Вивовдимо результат\n",
        "user_product_pairs.take(10)\n",
        "\n",
        "from itertools import combinations\n",
        "from collections import Counter\n",
        "\n",
        "# Функція для створення пар товарів та підрахунку їх кількості\n",
        "def get_product_pairs(products):\n",
        "    product_pairs = list(combinations(products, 2))  # Всі можливі комбінації товарів\n",
        "    return Counter(product_pairs)  # Підрахунок кількості кожної пари товарів\n",
        "\n",
        "# Створюємо всі пари товарів для кожного користувача та підраховуємо їх кількість\n",
        "product_pairs_count = unique_products_per_user.flatMapValues(get_product_pairs)\\\n",
        "                                               .map(lambda x: (x[1], 1))\\\n",
        "                                               .reduceByKey(lambda x, y: x + y)\n",
        "\n",
        "# Сортуємо пари продуктів за кількістю від найбільшої до найменшої\n",
        "sorted_product_pairs_count = product_pairs_count.sortBy(lambda x: x[1], ascending=False)\n",
        "\n",
        "# Беремо лише перші 10 пар продуктів та їх кількість\n",
        "top_10_product_pairs_count = sorted_product_pairs_count.take(10)\n",
        "\n",
        "# Виводимо результат\n",
        "top_10_product_pairs_count\n",
        "\n",
        "# Шлях до файлу, в який ми збережемо результат\n",
        "output_path = \"output_pairs_product.txt\"\n",
        "\n",
        "# Зберігаємо результат у текстовий файл\n",
        "sorted_product_pairs_count.map(lambda x: f\"{x[0]}: {x[1]}\")\\\n",
        "                          .saveAsTextFile(output_path)\n",
        "sc.stop()"
      ],
      "metadata": {
        "id": "xHc9jAfe1U0p"
      },
      "execution_count": 74,
      "outputs": []
    }
  ]
}