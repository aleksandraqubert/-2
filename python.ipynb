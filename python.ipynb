{
 "cells": [
  {
   "cell_type": "markdown",
   "metadata": {},
   "source": [
    "# Основи Python\n",
    "\n",
    "## Завдання № 1\n",
    "Написати функцію з одним аргументом, яка перевіряє чи є аргумент парним чи непарним. Функція повинна повернути `even` або `odd` в залежності від того яке то число. Якщо аргумент `None` або не є числом -- необхідно повернути пусту строку."
   ]
  },
  {
   "cell_type": "code",
   "execution_count": 12,
   "metadata": {},
   "outputs": [
    {
     "name": "stdout",
     "output_type": "stream",
     "text": [
      "odd\n"
     ]
    }
   ],
   "source": [
    "from __future__ import annotations\n",
    "\n",
    "def is_even(arg: int) -> str:\n",
    "    # Ваше рішення\n",
    " if ((arg %  2 ) ==  0 ):  \n",
    "    return \"even\"\n",
    " elif arg is None or not isinstance(arg, int):  \n",
    "    return \"\"\n",
    " else:\n",
    "  return \"odd\"\n",
    " \n",
    "result = is_even(7)\n",
    "print(result)"
   ]
  },
  {
   "cell_type": "markdown",
   "metadata": {},
   "source": [
    "## Завдання № 2\n",
    "Написати функцію, яка починає перебирати числа від 1 до нескінченності і перевіряє чи є число простим (просте число - те яке ділиться лише на 1 чи само на себе). Якщо просте число знайдене - воно додається до списку `numbers`. Після пʼятого знайденого простого числа функція повинна повернути суму всіх пʼяти простих чисел у списку."
   ]
  },
  {
   "cell_type": "code",
   "execution_count": 4,
   "metadata": {},
   "outputs": [
    {
     "name": "stdout",
     "output_type": "stream",
     "text": [
      "28\n"
     ]
    }
   ],
   "source": [
    "from __future__ import annotations\n",
    "\n",
    "def sum_simple() -> int:\n",
    "  numbers = []\n",
    "  b = 0 \n",
    "  for i in range(2, 100):\n",
    "        for j in range(2, i):\n",
    "         if i % j == 0 :\n",
    "           b=b+1\n",
    "        if b==0:\n",
    "         numbers.append(i)\n",
    "        else:\n",
    "          b=0\n",
    "\n",
    "  resyltat = sum(numbers[:5])\n",
    "  return resyltat\n",
    " \n",
    "print(sum_simple())\n"
   ]
  },
  {
   "cell_type": "markdown",
   "metadata": {},
   "source": [
    "## Завдання № 3\n",
    "Написати функцію з одним аргументом `n`, що є числом. Функція повинна повернути суму наступного ряду з `n` чисел $1 + 11 + 111 + 1111 + ....$, де кожний елемент - число з постійно зростаючою кількістю одиниць.\n",
    "\n",
    "Наприклад:\n",
    "\n",
    "Ви передаєте в функцію аргумент `5`.\n",
    "\n",
    "Функція рахує сумму для ряду виду: $1 + 11 + 111 + 1111 + 11111$.\n",
    "\n",
    "В даному прикладі вона повинна повернути число `12345`"
   ]
  },
  {
   "cell_type": "code",
   "execution_count": 5,
   "metadata": {},
   "outputs": [
    {
     "name": "stdout",
     "output_type": "stream",
     "text": [
      "123\n"
     ]
    }
   ],
   "source": [
    "from __future__ import annotations\n",
    "\n",
    "def sum_ones(n: int ) -> int:\n",
    "    # Ваше рішення\n",
    "    sum = 0\n",
    "    j = 1\n",
    "     \n",
    "    for i in range(1, n + 1):\n",
    "        sum = sum + j         \n",
    "        j = (j * 10) + 1     \n",
    "         \n",
    "    return sum\n",
    "\n",
    "n = 3\n",
    "print(sum_ones(n))"
   ]
  },
  {
   "cell_type": "markdown",
   "metadata": {},
   "source": [
    "# Об’єктно-орієнтоване програмування за допомогою Python\n",
    "## Завдання №4\n",
    "\n",
    "Створити обʼктну модель організації.\n",
    "\n",
    "В організації повинно бути 3 типи робітників `Employee`: `Developer`, `Designer` & `Manager`.\n",
    "\n",
    "У кожного `Employee` повинні бути поля:\n",
    "- Імʼя - `name`\n",
    "- Призвіще - `surname`\n",
    "- Базова заробітна плата - `base_salary`\n",
    "- Досвід (у роках) - `experience`\n",
    "\n",
    "У `Designer` додатково повинен бути коефіцієнт ефективності `eff_coef`- число від 0 до 1, включно. Якщо коефіцієнт виходить за межі цього діапазону - необхідно поставити значення 0 (якщо він негативний) або 1 (якщо він більше 1).\n",
    "\n",
    "У `Manager` повинна бути команда (список) що складається з довільної кількості `Developer` та `Designer`.\n",
    "\n",
    "Створити обʼєкт `Department`, що містить список `Manager` (які в свою чергу містять команди).\n",
    "Department повинен мати метод give_salary() який повинен надрукувати зарплату ВСІХ `Employee` цієї організації в форматі __іʼмя призвіще отримав counted_salary шекєлей__.\n",
    "\n",
    "Зарплата `counted_salary` для кожного `Employee` обраховується з поля `base_salary` (базова заробітна плата) з наступними умовами:\n",
    "- якщо його досвід роботи більше 2 років, він отримує `base_salary + 200`, але якщо його досвід більше 5 років - він отримує `base_salary * 1.2 + 500`.\n",
    "- Додатково, на зп `Designer` впливає коефіцієнт ефективності `counted_salary * eff_coef`.\n",
    "- Додатково, зп Manager розраховується з `counted_salary` плюс:\n",
    "    - Якщо в його команді більше 5 людей - `counted_salary + 200`, але якщо в його команді більше 10 людей то `counted_salary + 300`.\n",
    "    - Якщо в його команді більше половини `Developer` - його кінцева зп збільшується ще на `10%`.\n",
    "\n",
    "Додаткова інформація:\n",
    "- Для використання методів з суперкласу можна використати метод `super()`.\n",
    "- Перевірити чи є об’єкт екземпляром класу можна за допомогою методу `isinstance`. Його перший агрументом - екземпляр класу, який ми перевіряємо, а другий - імʼя (_батьківського_) класу. Наприклад, для екземпляра автобуса що є транспортним засобом `print(isinstance(myBusInstance, Vehicle)` виведе true."
   ]
  },
  {
   "cell_type": "code",
   "execution_count": 38,
   "metadata": {},
   "outputs": [
    {
     "name": "stdout",
     "output_type": "stream",
     "text": [
      "Зарплата для Добі Середній: 11330.000000000002 шекелей\n",
      "Зарплата для Добі Молодший: 2200 шекелей\n",
      "Зарплата для Добі Молодший_v.08: 4200 шекелей\n",
      "Зарплата для Добі Молодший_v.03: 4000 шекелей\n",
      "Зарплата для Добі Молодший_v.04: 1700.0 шекелей\n",
      "Зарплата для Добі Молодший_v.05: 7700.0 шекелей\n",
      "Зарплата для Добі Старший_v.02: 4400.0 шекелей\n",
      "Зарплата для Добі Старший_v.03: 3760.0 шекелей\n",
      "Зарплата для Добі Старший_v.07: 1320.0 шекелей\n",
      "Зарплата для Добі Середній_v.02: 6000 шекелей\n",
      "Зарплата для Добі Молодший_v.02: 1350 шекелей\n",
      "Зарплата для Добі Молодший_v.06: 2700 шекелей\n",
      "Зарплата для Добі Молодший_v.07: 3080.0 шекелей\n",
      "Зарплата для Добі Старший: 3280.0 шекелей\n",
      "Зарплата для Добі Старший_v.04: 5000.0 шекелей\n",
      "Зарплата для Добі Старший_v.05: 1770.0 шекелей\n",
      "Зарплата для Добі Старший_v.06: 60.4 шекелей\n",
      "Зарплата для Добі Старший_v.08: 7470.0 шекелей\n",
      "Загальна зарплата для всіх співробітників: 71320.4 шекелей\n"
     ]
    }
   ],
   "source": [
    "from __future__ import annotations\n",
    "\n",
    "class Employee:\n",
    "    def __init__(self, name: str, surname: str,base_salary:int, experience: int) -> None:\n",
    "        # Ваше рішення\n",
    "        self.name = name\n",
    "        self.surname = surname\n",
    "        self.base_salary=base_salary\n",
    "        self.experience = experience \n",
    "    \n",
    "    def counted_salary(self) -> float:\n",
    "        # Ваше рішення\n",
    "     if self.experience > 5:\n",
    "      return self.base_salary * 1.2 + 500\n",
    "     elif self.experience > 2:\n",
    "      return self.base_salary + 200\n",
    "     else:\n",
    "      return self.base_salary\n",
    "\n",
    "class Developer(Employee):\n",
    "    def __init__(self, name: str, surname: str,base_salary:int ,experience: int) -> None:\n",
    "        # Ваше рішення\n",
    "      super().__init__(name, surname,base_salary, experience)\n",
    "\n",
    "class Designer(Employee):\n",
    "    def __init__(self, name: str, surname: str,base_salary:int, experience: int, eff_coef: float) -> None:\n",
    "        # Ваше рішення\n",
    "        super().__init__(name, surname,base_salary, experience)\n",
    "        if eff_coef < 0:\n",
    "            self.eff_coef = 0\n",
    "        elif eff_coef > 1:\n",
    "            self.eff_coef = 1\n",
    "        else:\n",
    "            self.eff_coef = eff_coef\n",
    "    def counted_salary(self) -> float:\n",
    "     if self.experience > 5:\n",
    "            salary = self.base_salary * 1.2 + 500\n",
    "     elif self.experience > 2:\n",
    "            salary = self.base_salary + 200\n",
    "     else:\n",
    "            salary = self.base_salary\n",
    "     # Застосування коефіцієнта ефективності\n",
    "     salary *= self.eff_coef\n",
    "\n",
    "     return salary\n",
    "\n",
    "class Manager(Employee):\n",
    "    team: list[Employee] = []\n",
    "    def __init__(self, name: str, surname: str,base_salary:int, experience: int, self_team: list[Employee]) -> None:\n",
    "        # Ваше рішення\n",
    "        super().__init__(name, surname,base_salary, experience)\n",
    "        self.team = [self_team]\n",
    "    def counted_salary(self) -> float:\n",
    "        base_salary = super().counted_salary()  # Отримуємо базову зарплату через батьківський клас\n",
    "\n",
    "        # Умови зміни зарплати залежно від команди\n",
    "        if len(self.team) > 10:\n",
    "            base_salary += 300\n",
    "        elif len(self.team) > 5:\n",
    "            base_salary += 200\n",
    "\n",
    "        #Підраховуємо кількість розробників у команді\n",
    "        developers_count = sum(isinstance(emp, Developer) for emp in self.team)\n",
    "        if developers_count > len(self.team) / 2:\n",
    "            base_salary *= 1.1  # Збільшуємо зарплату на 10%, якщо розробників більше половини команди\n",
    "\n",
    "        return base_salary\n",
    "class Department:\n",
    "     managers: list[Manager] = []\n",
    "\n",
    "     def give_salary(self):\n",
    "        total_salary = 0\n",
    "        for manager in self.managers:\n",
    "            total_salary += manager.counted_salary()\n",
    "            print(f\"Зарплата для {manager.name} {manager.surname}: {manager.counted_salary()} шекелей\")\n",
    "            for employee in manager.team:\n",
    "                if hasattr(employee, 'counted_salary'):\n",
    "                    total_salary += employee.counted_salary()\n",
    "                    print(f\"Зарплата для {employee.name} {employee.surname}: {employee.counted_salary()} шекелей\")\n",
    "        print(f\"Загальна зарплата для всіх співробітників: {total_salary} шекелей\")\n",
    "        \n",
    "# Створюємо робітників\n",
    "dev1 = Developer(\"Добі\", \"Молодший\",2000, 3)\n",
    "designer1 = Designer(\"Добі\", \"Старший\",3000, 6, 0.8)\n",
    "dev2 = Developer(\"Добі\", \"Молодший_v.02\",1150, 5)\n",
    "designer2 = Designer(\"Добі\", \"Старший_v.02\",11000, 2, 0.4)\n",
    "dev3 = Developer(\"Добі\", \"Молодший_v.03\",4000, 1)\n",
    "designer3 = Designer(\"Добі\", \"Старший_v.03\",3500, 10, 0.8)\n",
    "dev4 = Developer(\"Добі\", \"Молодший_v.04\",1000, 8)\n",
    "designer4 = Designer(\"Добі\", \"Старший_v.04\",10000, 1, 0.5)\n",
    "dev5 = Developer(\"Добі\", \"Молодший_v.05\",6000, 10)\n",
    "designer5 = Designer(\"Добі\", \"Старший_v.05\",4500, 7, 0.3)\n",
    "dev6 = Developer(\"Добі\", \"Молодший_v.06\",2500, 4)\n",
    "designer6 = Designer(\"Добі\", \"Старший_v.06\",2100, 11, 0.02)\n",
    "dev7 = Developer(\"Добі\", \"Молодший_v.07\",2150, 6)\n",
    "designer7 = Designer(\"Добі\", \"Старший_v.07\",3100, 4, 0.4)\n",
    "dev8 = Developer(\"Добі\", \"Молодший_v.08\",4200, 2)\n",
    "designer8 = Designer(\"Добі\", \"Старший_v.08\",6500, 8, 0.9)\n",
    "manager1 = Manager(\"Добі\", \"Середній\",8000, 7,[dev1,dev8,dev3,dev4,dev5,designer2,designer3,designer7])\n",
    "manager2 = Manager(\"Добі\", \"Середній_v.02\",5800, 2,[dev2,dev6,dev7,designer1,designer4,designer5,designer6,designer8])\n",
    "\n",
    "# Створюємо вііділ і додаємо менеджера\n",
    "department = Department()\n",
    "department.managers.append(manager1)\n",
    "department.managers.append(manager2)\n",
    "\n",
    "# Додаємо співробітників к менеджеру\n",
    "manager1.team.append(dev1)\n",
    "manager1.team.append(dev8)\n",
    "manager1.team.append(dev3)\n",
    "manager1.team.append(dev4)\n",
    "manager1.team.append(dev5)\n",
    "manager1.team.append(designer2)\n",
    "manager1.team.append(designer3)\n",
    "manager1.team.append(designer7)\n",
    "manager2.team.append(dev2)\n",
    "manager2.team.append(dev6)\n",
    "manager2.team.append(dev7)\n",
    "manager2.team.append(designer1)\n",
    "manager2.team.append(designer4)\n",
    "manager2.team.append(designer5)\n",
    "manager2.team.append(designer6)\n",
    "manager2.team.append(designer8)\n",
    "# Виплачуємо зарплатню\n",
    "department.give_salary()"
   ]
  }
 ],
 "metadata": {
  "kernelspec": {
   "display_name": "venv",
   "language": "python",
   "name": "python3"
  },
  "language_info": {
   "codemirror_mode": {
    "name": "ipython",
    "version": 3
   },
   "file_extension": ".py",
   "mimetype": "text/x-python",
   "name": "python",
   "nbconvert_exporter": "python",
   "pygments_lexer": "ipython3",
   "version": "3.12.2"
  }
 },
 "nbformat": 4,
 "nbformat_minor": 2
}
